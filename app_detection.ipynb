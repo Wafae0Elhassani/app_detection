{
 "cells": [
  {
   "cell_type": "code",
   "execution_count": 19,
   "id": "f7f7d77e",
   "metadata": {},
   "outputs": [],
   "source": [
    "import cv2\n",
    "import tkinter as tk\n",
    "from tkinter import filedialog\n",
    "from tkinter.filedialog import askopenfile\n",
    "from PIL import Image, ImageTk\n",
    "import cv2\n",
    "import face_recognition\n",
    "import os\n",
    "import numpy as np"
   ]
  },
  {
   "cell_type": "code",
   "execution_count": 20,
   "id": "3508f460",
   "metadata": {},
   "outputs": [],
   "source": [
    "KNOWN_FACES_DIR = \"known_faces\"\n",
    "known_faces = []\n",
    "known_names = []\n",
    "TOLERANCE = 0.6"
   ]
  },
  {
   "cell_type": "code",
   "execution_count": 3,
   "id": "7e6d0573",
   "metadata": {},
   "outputs": [
    {
     "name": "stdout",
     "output_type": "stream",
     "text": [
      "mkdir: cannot create directory ‘known_faces’: File exists\r\n"
     ]
    }
   ],
   "source": [
    "mkdir known_faces"
   ]
  },
  {
   "cell_type": "code",
   "execution_count": 21,
   "id": "3b4f01ad",
   "metadata": {},
   "outputs": [
    {
     "ename": "IndexError",
     "evalue": "list index out of range",
     "output_type": "error",
     "traceback": [
      "\u001b[0;31m---------------------------------------------------------------------------\u001b[0m",
      "\u001b[0;31mIndexError\u001b[0m                                Traceback (most recent call last)",
      "Cell \u001b[0;32mIn[21], line 3\u001b[0m\n\u001b[1;32m      1\u001b[0m \u001b[38;5;28;01mfor\u001b[39;00m filename \u001b[38;5;129;01min\u001b[39;00m os\u001b[38;5;241m.\u001b[39mlistdir(KNOWN_FACES_DIR):\n\u001b[1;32m      2\u001b[0m     image \u001b[38;5;241m=\u001b[39m face_recognition\u001b[38;5;241m.\u001b[39mload_image_file(\u001b[38;5;124mf\u001b[39m\u001b[38;5;124m\"\u001b[39m\u001b[38;5;132;01m{\u001b[39;00mKNOWN_FACES_DIR\u001b[38;5;132;01m}\u001b[39;00m\u001b[38;5;124m/\u001b[39m\u001b[38;5;132;01m{\u001b[39;00mfilename\u001b[38;5;132;01m}\u001b[39;00m\u001b[38;5;124m\"\u001b[39m)\n\u001b[0;32m----> 3\u001b[0m     encoding \u001b[38;5;241m=\u001b[39m face_recognition\u001b[38;5;241m.\u001b[39mface_encodings(image)[\u001b[38;5;241m0\u001b[39m]\n\u001b[1;32m      4\u001b[0m     known_faces\u001b[38;5;241m.\u001b[39mappend(encoding)\n\u001b[1;32m      5\u001b[0m     known_names\u001b[38;5;241m.\u001b[39mappend(filename)\n",
      "\u001b[0;31mIndexError\u001b[0m: list index out of range"
     ]
    }
   ],
   "source": [
    "for filename in os.listdir(KNOWN_FACES_DIR):\n",
    "    image = face_recognition.load_image_file(f\"{KNOWN_FACES_DIR}/{filename}\")\n",
    "    encoding = face_recognition.face_encodings(image)[0]\n",
    "    known_faces.append(encoding)\n",
    "    known_names.append(filename)"
   ]
  },
  {
   "cell_type": "code",
   "execution_count": 22,
   "id": "71b8b574",
   "metadata": {},
   "outputs": [],
   "source": [
    "my_w = tk.Tk()\n",
    "my_w.geometry(\"700x700\")  # Size of the window \n",
    "my_w.title('Face Recognition')\n",
    "my_font1=('times', 18, 'bold')\n",
    "l1 = tk.Label(my_w,text='Add new Image',width=30,font=my_font1)  \n",
    "l1.grid(row=1,column=1)\n",
    "b1 = tk.Button(my_w, text='Upload File', \n",
    "   width=20,command = lambda:upload_file())\n",
    "b1.grid(row=2,column=1) "
   ]
  },
  {
   "cell_type": "code",
   "execution_count": 23,
   "id": "eef8f6c6",
   "metadata": {},
   "outputs": [],
   "source": [
    "def upload_file():\n",
    "    global img\n",
    "    f_types = [('Jpg Files', '*.jpg')]\n",
    "    filename = filedialog.askopenfilename(filetypes=f_types)\n",
    "    frame = face_recognition.load_image_file(filename)\n",
    "    face_locations = face_recognition.face_locations(frame)\n",
    "    unknown_face_encoding = face_recognition.face_encodings(frame,face_locations)\n",
    "    for face_encoding, face_loc in zip(unknown_face_encoding, face_locations):\n",
    "        results = face_recognition.compare_faces(known_faces, face_encoding,TOLERANCE)\n",
    "        top_left = (face_loc[1], face_loc[0])\n",
    "        bottom_right = (face_loc[3], face_loc[2])\n",
    "        color = (0, 0, 200)\n",
    "        cv2.rectangle(frame, top_left, bottom_right, color , 4)\n",
    "        match = None\n",
    "        if True in np.array(results):\n",
    "                match = known_names[results.index(True)]\n",
    "                font = cv2.FONT_HERSHEY_COMPLEX\n",
    "                cv2.putText(frame,match[:len(match)-4],(face_loc[1]-150, face_loc[0]),cv2.FONT_HERSHEY_SIMPLEX , 1 , (255,255,255) ,2)\n",
    "        else:\n",
    "                font = cv2.FONT_HERSHEY_COMPLEX\n",
    "                cv2.putText(frame,\"unknown\",(face_loc[1]-150, face_loc[0]),cv2.FONT_HERSHEY_SIMPLEX , 1 , (255,255,255) ,2 )\n",
    "  \n",
    "    #how to display an image from a numpy array in tkinter\n",
    "    image = Image.fromarray(frame)\n",
    "    image = image.resize((700, 600))\n",
    "    img = ImageTk.PhotoImage(image)\n",
    "    b2 = tk.Button(my_w, image=img)\n",
    "    b2.grid(row=3, column=1)\n",
    "my_w.mainloop()"
   ]
  },
  {
   "cell_type": "code",
   "execution_count": null,
   "id": "ecc7c9cd",
   "metadata": {},
   "outputs": [],
   "source": []
  }
 ],
 "metadata": {
  "kernelspec": {
   "display_name": "Python 3 (ipykernel)",
   "language": "python",
   "name": "python3"
  },
  "language_info": {
   "codemirror_mode": {
    "name": "ipython",
    "version": 3
   },
   "file_extension": ".py",
   "mimetype": "text/x-python",
   "name": "python",
   "nbconvert_exporter": "python",
   "pygments_lexer": "ipython3",
   "version": "3.11.5"
  }
 },
 "nbformat": 4,
 "nbformat_minor": 5
}
